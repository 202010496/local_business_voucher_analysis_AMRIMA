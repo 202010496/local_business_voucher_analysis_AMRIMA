{
 "cells": [
  {
   "cell_type": "markdown",
   "metadata": {},
   "source": [
    "#### 1. charge데이터를 시계열로 분석 -> ex) 충전금액이 높은 달이 있으면 원인 파악 -> 시계열로 충전 금액 수요예측-> 예산안을 어떻게 편성하면 좋을지에 대한 분석.\n",
    "#### 2. 예산 증액 + 1년동안 균등하게 예산이 쓰일 수 있도록 방안 제시\n",
    "#### [2019.04~2021.08(주별 데이터)]"
   ]
  },
  {
   "cell_type": "code",
   "execution_count": 47,
   "metadata": {
    "scrolled": true,
    "tags": []
   },
   "outputs": [
    {
     "name": "stderr",
     "output_type": "stream",
     "text": [
      "C:\\Users\\user\\anaconda3\\lib\\site-packages\\IPython\\core\\interactiveshell.py:3165: DtypeWarning: Columns (6) have mixed types.Specify dtype option on import or set low_memory=False.\n",
      "  has_raised = await self.run_ast_nodes(code_ast.body, cell_name,\n"
     ]
    },
    {
     "data": {
      "text/html": [
       "<div>\n",
       "<style scoped>\n",
       "    .dataframe tbody tr th:only-of-type {\n",
       "        vertical-align: middle;\n",
       "    }\n",
       "\n",
       "    .dataframe tbody tr th {\n",
       "        vertical-align: top;\n",
       "    }\n",
       "\n",
       "    .dataframe thead th {\n",
       "        text-align: right;\n",
       "    }\n",
       "</style>\n",
       "<table border=\"1\" class=\"dataframe\">\n",
       "  <thead>\n",
       "    <tr style=\"text-align: right;\">\n",
       "      <th></th>\n",
       "      <th>Unnamed: 0</th>\n",
       "      <th>USER_ID</th>\n",
       "      <th>SERVICE_NAME</th>\n",
       "      <th>USER_JOIN_DATE</th>\n",
       "      <th>CARD_NO</th>\n",
       "      <th>GENDER</th>\n",
       "      <th>USER_BIRTH_YEAR</th>\n",
       "      <th>USER_ADDRESS</th>\n",
       "      <th>USER_GRADE_TYPE</th>\n",
       "      <th>CHARGE_APPROVAL_DATE</th>\n",
       "      <th>CONNECT_BANK_NAME</th>\n",
       "      <th>CHARGE_AMOUNT</th>\n",
       "      <th>BALANCE_CHARGE_APPROVAL_AMOUNT</th>\n",
       "      <th>BALANCE_CHARGE_CANCEL_AMOUNT</th>\n",
       "      <th>INCENTIVE_CASH_CHARGE_APPROVAL_AMOUNT</th>\n",
       "      <th>INCENTIVE_CASH_CHARGE_CANCEL_AMOUNT</th>\n",
       "      <th>POLICY_CASH_CHARGE_APPROVAL_AMOUNT</th>\n",
       "      <th>POLICY_CASH_CHARGE_CANCEL_AMOUNT</th>\n",
       "      <th>CASH_NAME</th>\n",
       "    </tr>\n",
       "  </thead>\n",
       "  <tbody>\n",
       "    <tr>\n",
       "      <th>0</th>\n",
       "      <td>0</td>\n",
       "      <td>3002083441</td>\n",
       "      <td>포천사랑상품권(정책)</td>\n",
       "      <td>20190429</td>\n",
       "      <td>Q1F69E862CF295FF8131211232A</td>\n",
       "      <td>여</td>\n",
       "      <td>1987</td>\n",
       "      <td>NONE</td>\n",
       "      <td>정회원</td>\n",
       "      <td>20190429</td>\n",
       "      <td>IBK기업은행</td>\n",
       "      <td>10000</td>\n",
       "      <td>10000</td>\n",
       "      <td>0</td>\n",
       "      <td>0</td>\n",
       "      <td>0</td>\n",
       "      <td>0</td>\n",
       "      <td>0</td>\n",
       "      <td>NONE</td>\n",
       "    </tr>\n",
       "    <tr>\n",
       "      <th>1</th>\n",
       "      <td>1</td>\n",
       "      <td>3002092217</td>\n",
       "      <td>포천사랑상품권(정책)</td>\n",
       "      <td>20190430</td>\n",
       "      <td>Q1A9816BB2F2960257C1DBB21DE</td>\n",
       "      <td>여</td>\n",
       "      <td>1993</td>\n",
       "      <td>경기도 포천시 영북면 영북로 206 (산내들 아이파크)</td>\n",
       "      <td>정회원</td>\n",
       "      <td>20190430</td>\n",
       "      <td>IBK기업은행</td>\n",
       "      <td>500000</td>\n",
       "      <td>0</td>\n",
       "      <td>0</td>\n",
       "      <td>0</td>\n",
       "      <td>0</td>\n",
       "      <td>500000</td>\n",
       "      <td>0</td>\n",
       "      <td>포천사랑상품권 산후조리비</td>\n",
       "    </tr>\n",
       "    <tr>\n",
       "      <th>2</th>\n",
       "      <td>2</td>\n",
       "      <td>3002078044</td>\n",
       "      <td>포천사랑상품권(정책)</td>\n",
       "      <td>20190429</td>\n",
       "      <td>Q18197A23EF295FED72805E4C97</td>\n",
       "      <td>여</td>\n",
       "      <td>1992</td>\n",
       "      <td>경기도 포천시 영북면 영북로 210 (산내들 아파트)</td>\n",
       "      <td>정회원</td>\n",
       "      <td>20190430</td>\n",
       "      <td>카카오뱅크</td>\n",
       "      <td>500000</td>\n",
       "      <td>0</td>\n",
       "      <td>0</td>\n",
       "      <td>0</td>\n",
       "      <td>0</td>\n",
       "      <td>500000</td>\n",
       "      <td>0</td>\n",
       "      <td>포천사랑상품권 산후조리비</td>\n",
       "    </tr>\n",
       "    <tr>\n",
       "      <th>3</th>\n",
       "      <td>3</td>\n",
       "      <td>3002140390</td>\n",
       "      <td>포천사랑상품권(정책)</td>\n",
       "      <td>20190504</td>\n",
       "      <td>Q1D6B84229F295FA890C2FAF1CC</td>\n",
       "      <td>여</td>\n",
       "      <td>1994</td>\n",
       "      <td>경기도 의정부시 의정부동 199-10 우미쁘띠린</td>\n",
       "      <td>정회원</td>\n",
       "      <td>20190504</td>\n",
       "      <td>우리은행</td>\n",
       "      <td>250000</td>\n",
       "      <td>0</td>\n",
       "      <td>0</td>\n",
       "      <td>0</td>\n",
       "      <td>0</td>\n",
       "      <td>250000</td>\n",
       "      <td>0</td>\n",
       "      <td>포천사랑상품권 청년배당</td>\n",
       "    </tr>\n",
       "    <tr>\n",
       "      <th>4</th>\n",
       "      <td>4</td>\n",
       "      <td>3002143571</td>\n",
       "      <td>포천사랑상품권(정책)</td>\n",
       "      <td>20190505</td>\n",
       "      <td>Q13AA2CB81F295F3AEDB1AB017D</td>\n",
       "      <td>여</td>\n",
       "      <td>1988</td>\n",
       "      <td>NONE</td>\n",
       "      <td>정회원</td>\n",
       "      <td>20190505</td>\n",
       "      <td>NONE</td>\n",
       "      <td>500000</td>\n",
       "      <td>0</td>\n",
       "      <td>0</td>\n",
       "      <td>0</td>\n",
       "      <td>0</td>\n",
       "      <td>500000</td>\n",
       "      <td>0</td>\n",
       "      <td>포천사랑상품권 산후조리비</td>\n",
       "    </tr>\n",
       "    <tr>\n",
       "      <th>5</th>\n",
       "      <td>5</td>\n",
       "      <td>3002142120</td>\n",
       "      <td>포천사랑상품권(정책)</td>\n",
       "      <td>20190504</td>\n",
       "      <td>Q1F585330EF295F719C9859A951</td>\n",
       "      <td>여</td>\n",
       "      <td>1994</td>\n",
       "      <td>NONE</td>\n",
       "      <td>정회원</td>\n",
       "      <td>20190504</td>\n",
       "      <td>NONE</td>\n",
       "      <td>250000</td>\n",
       "      <td>0</td>\n",
       "      <td>0</td>\n",
       "      <td>0</td>\n",
       "      <td>0</td>\n",
       "      <td>250000</td>\n",
       "      <td>0</td>\n",
       "      <td>포천사랑상품권 청년배당</td>\n",
       "    </tr>\n",
       "    <tr>\n",
       "      <th>6</th>\n",
       "      <td>6</td>\n",
       "      <td>3002124769</td>\n",
       "      <td>포천사랑상품권(정책)</td>\n",
       "      <td>20190503</td>\n",
       "      <td>Q1D1B6BB55F29602120BEAD7F95</td>\n",
       "      <td>여</td>\n",
       "      <td>1992</td>\n",
       "      <td>경기도 포천시 일동면 운악청계로 1772 (일동기산베스트빌아파트)</td>\n",
       "      <td>정회원</td>\n",
       "      <td>20190503</td>\n",
       "      <td>NONE</td>\n",
       "      <td>500000</td>\n",
       "      <td>0</td>\n",
       "      <td>0</td>\n",
       "      <td>0</td>\n",
       "      <td>0</td>\n",
       "      <td>500000</td>\n",
       "      <td>0</td>\n",
       "      <td>포천사랑상품권 산후조리비</td>\n",
       "    </tr>\n",
       "    <tr>\n",
       "      <th>7</th>\n",
       "      <td>7</td>\n",
       "      <td>3002141467</td>\n",
       "      <td>포천사랑상품권(정책)</td>\n",
       "      <td>20190505</td>\n",
       "      <td>Q198A1F5BFF295F9CD47D96E3EA</td>\n",
       "      <td>여</td>\n",
       "      <td>1994</td>\n",
       "      <td>경기도 포천시 영중면 먼재길 87</td>\n",
       "      <td>정회원</td>\n",
       "      <td>20190505</td>\n",
       "      <td>지역농축협</td>\n",
       "      <td>250000</td>\n",
       "      <td>0</td>\n",
       "      <td>0</td>\n",
       "      <td>0</td>\n",
       "      <td>0</td>\n",
       "      <td>250000</td>\n",
       "      <td>0</td>\n",
       "      <td>포천사랑상품권 청년배당</td>\n",
       "    </tr>\n",
       "    <tr>\n",
       "      <th>8</th>\n",
       "      <td>8</td>\n",
       "      <td>3002142591</td>\n",
       "      <td>포천사랑상품권(정책)</td>\n",
       "      <td>20190505</td>\n",
       "      <td>Q18DA56112F295F9A5510DE66C5</td>\n",
       "      <td>남</td>\n",
       "      <td>1994</td>\n",
       "      <td>경기도 포천시 영북면 영북로177번길 33</td>\n",
       "      <td>정회원</td>\n",
       "      <td>20190505</td>\n",
       "      <td>IBK기업은행</td>\n",
       "      <td>250000</td>\n",
       "      <td>0</td>\n",
       "      <td>0</td>\n",
       "      <td>0</td>\n",
       "      <td>0</td>\n",
       "      <td>250000</td>\n",
       "      <td>0</td>\n",
       "      <td>포천사랑상품권 청년배당</td>\n",
       "    </tr>\n",
       "    <tr>\n",
       "      <th>9</th>\n",
       "      <td>9</td>\n",
       "      <td>3002141282</td>\n",
       "      <td>포천사랑상품권(정책)</td>\n",
       "      <td>20190504</td>\n",
       "      <td>Q11387D1B0F295F6CDB1AD0C668</td>\n",
       "      <td>여</td>\n",
       "      <td>1994</td>\n",
       "      <td>경기도 포천시 신북면 호국로 1886-27 (산호기지그린빌아파트)</td>\n",
       "      <td>정회원</td>\n",
       "      <td>20190504</td>\n",
       "      <td>NONE</td>\n",
       "      <td>250000</td>\n",
       "      <td>0</td>\n",
       "      <td>0</td>\n",
       "      <td>0</td>\n",
       "      <td>0</td>\n",
       "      <td>250000</td>\n",
       "      <td>0</td>\n",
       "      <td>포천사랑상품권 청년배당</td>\n",
       "    </tr>\n",
       "  </tbody>\n",
       "</table>\n",
       "</div>"
      ],
      "text/plain": [
       "   Unnamed: 0     USER_ID SERVICE_NAME  USER_JOIN_DATE  \\\n",
       "0           0  3002083441  포천사랑상품권(정책)        20190429   \n",
       "1           1  3002092217  포천사랑상품권(정책)        20190430   \n",
       "2           2  3002078044  포천사랑상품권(정책)        20190429   \n",
       "3           3  3002140390  포천사랑상품권(정책)        20190504   \n",
       "4           4  3002143571  포천사랑상품권(정책)        20190505   \n",
       "5           5  3002142120  포천사랑상품권(정책)        20190504   \n",
       "6           6  3002124769  포천사랑상품권(정책)        20190503   \n",
       "7           7  3002141467  포천사랑상품권(정책)        20190505   \n",
       "8           8  3002142591  포천사랑상품권(정책)        20190505   \n",
       "9           9  3002141282  포천사랑상품권(정책)        20190504   \n",
       "\n",
       "                       CARD_NO GENDER USER_BIRTH_YEAR  \\\n",
       "0  Q1F69E862CF295FF8131211232A      여            1987   \n",
       "1  Q1A9816BB2F2960257C1DBB21DE      여            1993   \n",
       "2  Q18197A23EF295FED72805E4C97      여            1992   \n",
       "3  Q1D6B84229F295FA890C2FAF1CC      여            1994   \n",
       "4  Q13AA2CB81F295F3AEDB1AB017D      여            1988   \n",
       "5  Q1F585330EF295F719C9859A951      여            1994   \n",
       "6  Q1D1B6BB55F29602120BEAD7F95      여            1992   \n",
       "7  Q198A1F5BFF295F9CD47D96E3EA      여            1994   \n",
       "8  Q18DA56112F295F9A5510DE66C5      남            1994   \n",
       "9  Q11387D1B0F295F6CDB1AD0C668      여            1994   \n",
       "\n",
       "                           USER_ADDRESS USER_GRADE_TYPE  CHARGE_APPROVAL_DATE  \\\n",
       "0                                  NONE             정회원              20190429   \n",
       "1        경기도 포천시 영북면 영북로 206 (산내들 아이파크)             정회원              20190430   \n",
       "2         경기도 포천시 영북면 영북로 210 (산내들 아파트)             정회원              20190430   \n",
       "3            경기도 의정부시 의정부동 199-10 우미쁘띠린             정회원              20190504   \n",
       "4                                  NONE             정회원              20190505   \n",
       "5                                  NONE             정회원              20190504   \n",
       "6  경기도 포천시 일동면 운악청계로 1772 (일동기산베스트빌아파트)             정회원              20190503   \n",
       "7                    경기도 포천시 영중면 먼재길 87             정회원              20190505   \n",
       "8               경기도 포천시 영북면 영북로177번길 33             정회원              20190505   \n",
       "9  경기도 포천시 신북면 호국로 1886-27 (산호기지그린빌아파트)             정회원              20190504   \n",
       "\n",
       "  CONNECT_BANK_NAME  CHARGE_AMOUNT  BALANCE_CHARGE_APPROVAL_AMOUNT  \\\n",
       "0           IBK기업은행          10000                           10000   \n",
       "1           IBK기업은행         500000                               0   \n",
       "2             카카오뱅크         500000                               0   \n",
       "3              우리은행         250000                               0   \n",
       "4              NONE         500000                               0   \n",
       "5              NONE         250000                               0   \n",
       "6              NONE         500000                               0   \n",
       "7             지역농축협         250000                               0   \n",
       "8           IBK기업은행         250000                               0   \n",
       "9              NONE         250000                               0   \n",
       "\n",
       "   BALANCE_CHARGE_CANCEL_AMOUNT  INCENTIVE_CASH_CHARGE_APPROVAL_AMOUNT  \\\n",
       "0                             0                                      0   \n",
       "1                             0                                      0   \n",
       "2                             0                                      0   \n",
       "3                             0                                      0   \n",
       "4                             0                                      0   \n",
       "5                             0                                      0   \n",
       "6                             0                                      0   \n",
       "7                             0                                      0   \n",
       "8                             0                                      0   \n",
       "9                             0                                      0   \n",
       "\n",
       "   INCENTIVE_CASH_CHARGE_CANCEL_AMOUNT  POLICY_CASH_CHARGE_APPROVAL_AMOUNT  \\\n",
       "0                                    0                                   0   \n",
       "1                                    0                              500000   \n",
       "2                                    0                              500000   \n",
       "3                                    0                              250000   \n",
       "4                                    0                              500000   \n",
       "5                                    0                              250000   \n",
       "6                                    0                              500000   \n",
       "7                                    0                              250000   \n",
       "8                                    0                              250000   \n",
       "9                                    0                              250000   \n",
       "\n",
       "   POLICY_CASH_CHARGE_CANCEL_AMOUNT      CASH_NAME  \n",
       "0                                 0           NONE  \n",
       "1                                 0  포천사랑상품권 산후조리비  \n",
       "2                                 0  포천사랑상품권 산후조리비  \n",
       "3                                 0   포천사랑상품권 청년배당  \n",
       "4                                 0  포천사랑상품권 산후조리비  \n",
       "5                                 0   포천사랑상품권 청년배당  \n",
       "6                                 0  포천사랑상품권 산후조리비  \n",
       "7                                 0   포천사랑상품권 청년배당  \n",
       "8                                 0   포천사랑상품권 청년배당  \n",
       "9                                 0   포천사랑상품권 청년배당  "
      ]
     },
     "execution_count": 47,
     "metadata": {},
     "output_type": "execute_result"
    }
   ],
   "source": [
    "import pandas as pd\n",
    "charge= pd.read_csv('충전데이터_병합.csv',encoding='cp949')\n",
    "charge.head(10)"
   ]
  },
  {
   "cell_type": "code",
   "execution_count": 48,
   "metadata": {},
   "outputs": [],
   "source": [
    "#https://magoker.tistory.com/105?category=864781"
   ]
  },
  {
   "cell_type": "code",
   "execution_count": 49,
   "metadata": {
    "scrolled": true,
    "tags": []
   },
   "outputs": [
    {
     "data": {
      "text/html": [
       "<div>\n",
       "<style scoped>\n",
       "    .dataframe tbody tr th:only-of-type {\n",
       "        vertical-align: middle;\n",
       "    }\n",
       "\n",
       "    .dataframe tbody tr th {\n",
       "        vertical-align: top;\n",
       "    }\n",
       "\n",
       "    .dataframe thead th {\n",
       "        text-align: right;\n",
       "    }\n",
       "</style>\n",
       "<table border=\"1\" class=\"dataframe\">\n",
       "  <thead>\n",
       "    <tr style=\"text-align: right;\">\n",
       "      <th></th>\n",
       "      <th>CHARGE_APPROVAL_month</th>\n",
       "      <th>CHARGE_AMOUNT</th>\n",
       "    </tr>\n",
       "  </thead>\n",
       "  <tbody>\n",
       "    <tr>\n",
       "      <th>0</th>\n",
       "      <td>2019-04</td>\n",
       "      <td>1.501000e+07</td>\n",
       "    </tr>\n",
       "    <tr>\n",
       "      <th>1</th>\n",
       "      <td>2019-05</td>\n",
       "      <td>2.841968e+08</td>\n",
       "    </tr>\n",
       "    <tr>\n",
       "      <th>2</th>\n",
       "      <td>2019-06</td>\n",
       "      <td>1.024820e+08</td>\n",
       "    </tr>\n",
       "    <tr>\n",
       "      <th>3</th>\n",
       "      <td>2019-07</td>\n",
       "      <td>3.418750e+08</td>\n",
       "    </tr>\n",
       "    <tr>\n",
       "      <th>4</th>\n",
       "      <td>2019-08</td>\n",
       "      <td>4.882270e+07</td>\n",
       "    </tr>\n",
       "    <tr>\n",
       "      <th>5</th>\n",
       "      <td>2019-09</td>\n",
       "      <td>4.941001e+07</td>\n",
       "    </tr>\n",
       "    <tr>\n",
       "      <th>6</th>\n",
       "      <td>2019-10</td>\n",
       "      <td>3.615477e+08</td>\n",
       "    </tr>\n",
       "    <tr>\n",
       "      <th>7</th>\n",
       "      <td>2019-11</td>\n",
       "      <td>5.320752e+07</td>\n",
       "    </tr>\n",
       "    <tr>\n",
       "      <th>8</th>\n",
       "      <td>2019-12</td>\n",
       "      <td>4.663565e+08</td>\n",
       "    </tr>\n",
       "    <tr>\n",
       "      <th>9</th>\n",
       "      <td>2020-01</td>\n",
       "      <td>1.528545e+08</td>\n",
       "    </tr>\n",
       "    <tr>\n",
       "      <th>10</th>\n",
       "      <td>2020-02</td>\n",
       "      <td>1.559682e+08</td>\n",
       "    </tr>\n",
       "    <tr>\n",
       "      <th>11</th>\n",
       "      <td>2020-03</td>\n",
       "      <td>2.630905e+08</td>\n",
       "    </tr>\n",
       "    <tr>\n",
       "      <th>12</th>\n",
       "      <td>2020-04</td>\n",
       "      <td>1.649688e+09</td>\n",
       "    </tr>\n",
       "    <tr>\n",
       "      <th>13</th>\n",
       "      <td>2020-05</td>\n",
       "      <td>7.794700e+10</td>\n",
       "    </tr>\n",
       "    <tr>\n",
       "      <th>14</th>\n",
       "      <td>2020-06</td>\n",
       "      <td>4.832723e+09</td>\n",
       "    </tr>\n",
       "    <tr>\n",
       "      <th>15</th>\n",
       "      <td>2020-07</td>\n",
       "      <td>1.452037e+09</td>\n",
       "    </tr>\n",
       "    <tr>\n",
       "      <th>16</th>\n",
       "      <td>2020-08</td>\n",
       "      <td>1.622795e+09</td>\n",
       "    </tr>\n",
       "    <tr>\n",
       "      <th>17</th>\n",
       "      <td>2020-09</td>\n",
       "      <td>2.039446e+09</td>\n",
       "    </tr>\n",
       "    <tr>\n",
       "      <th>18</th>\n",
       "      <td>2020-10</td>\n",
       "      <td>1.949081e+09</td>\n",
       "    </tr>\n",
       "    <tr>\n",
       "      <th>19</th>\n",
       "      <td>2020-11</td>\n",
       "      <td>2.928930e+09</td>\n",
       "    </tr>\n",
       "    <tr>\n",
       "      <th>20</th>\n",
       "      <td>2020-12</td>\n",
       "      <td>4.939698e+09</td>\n",
       "    </tr>\n",
       "    <tr>\n",
       "      <th>21</th>\n",
       "      <td>2021-01</td>\n",
       "      <td>1.584245e+09</td>\n",
       "    </tr>\n",
       "    <tr>\n",
       "      <th>22</th>\n",
       "      <td>2021-02</td>\n",
       "      <td>1.518013e+10</td>\n",
       "    </tr>\n",
       "    <tr>\n",
       "      <th>23</th>\n",
       "      <td>2021-03</td>\n",
       "      <td>9.497924e+09</td>\n",
       "    </tr>\n",
       "    <tr>\n",
       "      <th>24</th>\n",
       "      <td>2021-04</td>\n",
       "      <td>5.731725e+09</td>\n",
       "    </tr>\n",
       "    <tr>\n",
       "      <th>25</th>\n",
       "      <td>2021-05</td>\n",
       "      <td>2.687275e+09</td>\n",
       "    </tr>\n",
       "    <tr>\n",
       "      <th>26</th>\n",
       "      <td>2021-06</td>\n",
       "      <td>2.968008e+09</td>\n",
       "    </tr>\n",
       "    <tr>\n",
       "      <th>27</th>\n",
       "      <td>2021-07</td>\n",
       "      <td>2.215306e+09</td>\n",
       "    </tr>\n",
       "    <tr>\n",
       "      <th>28</th>\n",
       "      <td>2021-08</td>\n",
       "      <td>1.244192e+08</td>\n",
       "    </tr>\n",
       "  </tbody>\n",
       "</table>\n",
       "</div>"
      ],
      "text/plain": [
       "   CHARGE_APPROVAL_month  CHARGE_AMOUNT\n",
       "0                2019-04   1.501000e+07\n",
       "1                2019-05   2.841968e+08\n",
       "2                2019-06   1.024820e+08\n",
       "3                2019-07   3.418750e+08\n",
       "4                2019-08   4.882270e+07\n",
       "5                2019-09   4.941001e+07\n",
       "6                2019-10   3.615477e+08\n",
       "7                2019-11   5.320752e+07\n",
       "8                2019-12   4.663565e+08\n",
       "9                2020-01   1.528545e+08\n",
       "10               2020-02   1.559682e+08\n",
       "11               2020-03   2.630905e+08\n",
       "12               2020-04   1.649688e+09\n",
       "13               2020-05   7.794700e+10\n",
       "14               2020-06   4.832723e+09\n",
       "15               2020-07   1.452037e+09\n",
       "16               2020-08   1.622795e+09\n",
       "17               2020-09   2.039446e+09\n",
       "18               2020-10   1.949081e+09\n",
       "19               2020-11   2.928930e+09\n",
       "20               2020-12   4.939698e+09\n",
       "21               2021-01   1.584245e+09\n",
       "22               2021-02   1.518013e+10\n",
       "23               2021-03   9.497924e+09\n",
       "24               2021-04   5.731725e+09\n",
       "25               2021-05   2.687275e+09\n",
       "26               2021-06   2.968008e+09\n",
       "27               2021-07   2.215306e+09\n",
       "28               2021-08   1.244192e+08"
      ]
     },
     "execution_count": 49,
     "metadata": {},
     "output_type": "execute_result"
    }
   ],
   "source": [
    "import datetime\n",
    "charge['CHARGE_APPROVAL_DATE']= charge['CHARGE_APPROVAL_DATE'].astype(str)\n",
    "charge['CHARGE_APPROVAL_DATE']=pd.to_datetime(charge['CHARGE_APPROVAL_DATE'])\n",
    "charge['CHARGE_APPROVAL_month']=charge['CHARGE_APPROVAL_DATE'].dt.strftime('%Y-%m')\n",
    "gr_charge = charge.groupby('CHARGE_APPROVAL_month').sum()['CHARGE_AMOUNT'].to_frame()\n",
    "gr_charge1=gr_charge.reset_index()\n",
    "gr_charge1"
   ]
  },
  {
   "cell_type": "code",
   "execution_count": 50,
   "metadata": {},
   "outputs": [
    {
     "data": {
      "text/html": [
       "<div>\n",
       "<style scoped>\n",
       "    .dataframe tbody tr th:only-of-type {\n",
       "        vertical-align: middle;\n",
       "    }\n",
       "\n",
       "    .dataframe tbody tr th {\n",
       "        vertical-align: top;\n",
       "    }\n",
       "\n",
       "    .dataframe thead th {\n",
       "        text-align: right;\n",
       "    }\n",
       "</style>\n",
       "<table border=\"1\" class=\"dataframe\">\n",
       "  <thead>\n",
       "    <tr style=\"text-align: right;\">\n",
       "      <th></th>\n",
       "      <th>CHARGE_APPROVAL_month</th>\n",
       "      <th>CHARGE_AMOUNT</th>\n",
       "    </tr>\n",
       "  </thead>\n",
       "  <tbody>\n",
       "    <tr>\n",
       "      <th>0</th>\n",
       "      <td>2020-05</td>\n",
       "      <td>7.794700e+10</td>\n",
       "    </tr>\n",
       "    <tr>\n",
       "      <th>1</th>\n",
       "      <td>2021-02</td>\n",
       "      <td>1.518013e+10</td>\n",
       "    </tr>\n",
       "    <tr>\n",
       "      <th>2</th>\n",
       "      <td>2021-03</td>\n",
       "      <td>9.497924e+09</td>\n",
       "    </tr>\n",
       "  </tbody>\n",
       "</table>\n",
       "</div>"
      ],
      "text/plain": [
       "  CHARGE_APPROVAL_month  CHARGE_AMOUNT\n",
       "0               2020-05   7.794700e+10\n",
       "1               2021-02   1.518013e+10\n",
       "2               2021-03   9.497924e+09"
      ]
     },
     "execution_count": 50,
     "metadata": {},
     "output_type": "execute_result"
    }
   ],
   "source": [
    "#충전금액이 가장 많았던 년도/월 3건\n",
    "gr_charge1.sort_values('CHARGE_AMOUNT',ascending=False).reset_index(drop=True).head(3)"
   ]
  },
  {
   "cell_type": "markdown",
   "metadata": {},
   "source": [
    "#### WHY?\n",
    "#### →  2020년 05월 : 1차 재난지원금\n",
    "#### →  2021년 02월, 3월 : 포천시 2차 재난기본소득 지급(2/1~3/14 신청) 30만원"
   ]
  },
  {
   "cell_type": "code",
   "execution_count": 51,
   "metadata": {},
   "outputs": [
    {
     "data": {
      "text/html": [
       "<div>\n",
       "<style scoped>\n",
       "    .dataframe tbody tr th:only-of-type {\n",
       "        vertical-align: middle;\n",
       "    }\n",
       "\n",
       "    .dataframe tbody tr th {\n",
       "        vertical-align: top;\n",
       "    }\n",
       "\n",
       "    .dataframe thead th {\n",
       "        text-align: right;\n",
       "    }\n",
       "</style>\n",
       "<table border=\"1\" class=\"dataframe\">\n",
       "  <thead>\n",
       "    <tr style=\"text-align: right;\">\n",
       "      <th></th>\n",
       "      <th>CHARGE_APPROVAL_month</th>\n",
       "      <th>CHARGE_AMOUNT</th>\n",
       "    </tr>\n",
       "  </thead>\n",
       "  <tbody>\n",
       "    <tr>\n",
       "      <th>0</th>\n",
       "      <td>2019-04</td>\n",
       "      <td>15010000.0</td>\n",
       "    </tr>\n",
       "    <tr>\n",
       "      <th>1</th>\n",
       "      <td>2019-08</td>\n",
       "      <td>48822702.0</td>\n",
       "    </tr>\n",
       "    <tr>\n",
       "      <th>2</th>\n",
       "      <td>2019-09</td>\n",
       "      <td>49410008.0</td>\n",
       "    </tr>\n",
       "  </tbody>\n",
       "</table>\n",
       "</div>"
      ],
      "text/plain": [
       "  CHARGE_APPROVAL_month  CHARGE_AMOUNT\n",
       "0               2019-04     15010000.0\n",
       "1               2019-08     48822702.0\n",
       "2               2019-09     49410008.0"
      ]
     },
     "execution_count": 51,
     "metadata": {},
     "output_type": "execute_result"
    }
   ],
   "source": [
    "#충전금액이 가장 적었던 년도/월 3건\n",
    "gr_charge1.sort_values('CHARGE_AMOUNT',ascending=True).reset_index(drop=True).head(3)"
   ]
  },
  {
   "cell_type": "markdown",
   "metadata": {},
   "source": [
    "#### → 경기지역화폐가 2019년 처음 발행되어, 활성화되지않아 2019년 전반적으로 충전금액이 낮음"
   ]
  },
  {
   "cell_type": "code",
   "execution_count": 52,
   "metadata": {},
   "outputs": [],
   "source": [
    "gr_charge1['CHARGE_APPROVAL_month']=pd.to_datetime(gr_charge1['CHARGE_APPROVAL_month'])"
   ]
  },
  {
   "cell_type": "code",
   "execution_count": 83,
   "metadata": {},
   "outputs": [
    {
     "data": {
      "text/plain": [
       "<function matplotlib.pyplot.show(close=None, block=None)>"
      ]
     },
     "execution_count": 83,
     "metadata": {},
     "output_type": "execute_result"
    },
    {
     "data": {
      "image/png": "[encoded data removed]",
      "text/plain": [
       "<Figure size 1296x576 with 4 Axes>"
      ]
     },
     "metadata": {
      "needs_background": "light"
     },
     "output_type": "display_data"
    }
   ],
   "source": [
    "import numpy as np\n",
    "import matplotlib.pyplot as plt\n",
    "from datetime import datetime\n",
    "from pylab import rcParams\n",
    "import statsmodels.api as sm\n",
    "import warnings\n",
    "import itertools\n",
    "from statsmodels.tsa.ar_model import AR\n",
    "from statsmodels.tsa.arima_model import ARIMA\n",
    "from statsmodels.tsa.seasonal import seasonal_decompose\n",
    "\n",
    "#train데이터로 2019년4월 ~ 2021년3월 데이터사용\n",
    "#test데이터로 2021년 4월 ~ 2021년8월 데이터사용\n",
    "gr_charge_train = gr_charge[:'2021-03']\n",
    "gr_charge_test = gr_charge['2021-03':]\n",
    "gr_charge_test_final=gr_charge_test.copy()\n",
    "\n",
    "rcParams['figure.figsize'] = 18,8\n",
    "decomposition = seasonal_decompose(gr_charge_train,model='additive',period=12)\n",
    "fig = decomposition.plot()\n",
    "plt.show"
   ]
  },
  {
   "cell_type": "code",
   "execution_count": 84,
   "metadata": {},
   "outputs": [
    {
     "name": "stdout",
     "output_type": "stream",
     "text": [
      "Requirement already satisfied: pmdarima in c:\\users\\user\\anaconda3\\lib\\site-packages (1.8.4)\n",
      "Requirement already satisfied: pandas>=0.19 in c:\\users\\user\\anaconda3\\lib\\site-packages (from pmdarima) (1.2.4)\n",
      "Requirement already satisfied: scipy>=1.3.2 in c:\\users\\user\\anaconda3\\lib\\site-packages (from pmdarima) (1.6.2)\n",
      "Requirement already satisfied: scikit-learn>=0.22 in c:\\users\\user\\anaconda3\\lib\\site-packages (from pmdarima) (0.24.1)\n",
      "Requirement already satisfied: urllib3 in c:\\users\\user\\anaconda3\\lib\\site-packages (from pmdarima) (1.26.4)\n",
      "Requirement already satisfied: setuptools!=50.0.0,>=38.6.0 in c:\\users\\user\\anaconda3\\lib\\site-packages (from pmdarima) (52.0.0.post20210125)\n",
      "Requirement already satisfied: Cython!=0.29.18,>=0.29 in c:\\users\\user\\anaconda3\\lib\\site-packages (from pmdarima) (0.29.23)\n",
      "Requirement already satisfied: statsmodels!=0.12.0,>=0.11 in c:\\users\\user\\anaconda3\\lib\\site-packages (from pmdarima) (0.12.2)\n",
      "Requirement already satisfied: joblib>=0.11 in c:\\users\\user\\anaconda3\\lib\\site-packages (from pmdarima) (1.0.1)\n",
      "Requirement already satisfied: numpy>=1.19.3 in c:\\users\\user\\anaconda3\\lib\\site-packages (from pmdarima) (1.20.1)\n",
      "Requirement already satisfied: python-dateutil>=2.7.3 in c:\\users\\user\\anaconda3\\lib\\site-packages (from pandas>=0.19->pmdarima) (2.8.1)\n",
      "Requirement already satisfied: pytz>=2017.3 in c:\\users\\user\\anaconda3\\lib\\site-packages (from pandas>=0.19->pmdarima) (2021.1)\n",
      "Requirement already satisfied: six>=1.5 in c:\\users\\user\\anaconda3\\lib\\site-packages (from python-dateutil>=2.7.3->pandas>=0.19->pmdarima) (1.15.0)\n",
      "Requirement already satisfied: threadpoolctl>=2.0.0 in c:\\users\\user\\anaconda3\\lib\\site-packages (from scikit-learn>=0.22->pmdarima) (2.1.0)\n",
      "Requirement already satisfied: patsy>=0.5 in c:\\users\\user\\anaconda3\\lib\\site-packages (from statsmodels!=0.12.0,>=0.11->pmdarima) (0.5.1)\n"
     ]
    }
   ],
   "source": [
    "!pip install pmdarima"
   ]
  },
  {
   "cell_type": "code",
   "execution_count": 85,
   "metadata": {},
   "outputs": [
    {
     "name": "stdout",
     "output_type": "stream",
     "text": [
      "Performing stepwise search to minimize aic\n",
      " ARIMA(1,1,1)(0,0,0)[0] intercept   : AIC=1158.370, Time=0.02 sec\n",
      " ARIMA(0,1,0)(0,0,0)[0] intercept   : AIC=1165.298, Time=0.00 sec\n",
      " ARIMA(1,1,0)(0,0,0)[0] intercept   : AIC=1161.564, Time=0.00 sec\n",
      " ARIMA(0,1,1)(0,0,0)[0] intercept   : AIC=1156.409, Time=0.01 sec\n",
      " ARIMA(0,1,0)(0,0,0)[0]             : AIC=1163.327, Time=0.00 sec\n",
      " ARIMA(0,1,2)(0,0,0)[0] intercept   : AIC=1160.419, Time=0.01 sec\n",
      " ARIMA(1,1,2)(0,0,0)[0] intercept   : AIC=1160.983, Time=0.03 sec\n",
      " ARIMA(0,1,1)(0,0,0)[0]             : AIC=1153.961, Time=0.01 sec\n",
      " ARIMA(1,1,1)(0,0,0)[0]             : AIC=1155.942, Time=0.01 sec\n",
      " ARIMA(0,1,2)(0,0,0)[0]             : AIC=1157.341, Time=0.01 sec\n",
      " ARIMA(1,1,0)(0,0,0)[0]             : AIC=1159.595, Time=0.00 sec\n",
      " ARIMA(1,1,2)(0,0,0)[0]             : AIC=1159.126, Time=0.01 sec\n",
      "\n",
      "Best model:  ARIMA(0,1,1)(0,0,0)[0]          \n",
      "Total fit time: 0.134 seconds\n"
     ]
    },
    {
     "name": "stderr",
     "output_type": "stream",
     "text": [
      "C:\\Users\\user\\anaconda3\\lib\\site-packages\\pmdarima\\arima\\_validation.py:62: UserWarning: m (12) set for non-seasonal fit. Setting to 0\n",
      "  warnings.warn(\"m (%i) set for non-seasonal fit. Setting to 0\" % m)\n"
     ]
    }
   ],
   "source": [
    "from pmdarima import auto_arima\n",
    "stepwise_model = auto_arima(gr_charge_train, start_p=1, start_q=1,\n",
    "                           max_p=3, max_q=3, m=12,\n",
    "                           start_P=0, seasonal=False,\n",
    "                           d=1, D=1, trace=True,\n",
    "                           error_action='ignore',  \n",
    "                           suppress_warnings=True, \n",
    "                           stepwise=True)"
   ]
  },
  {
   "cell_type": "markdown",
   "metadata": {},
   "source": [
    "#### → ARIMA 모형을 위한 최적의 파라미터값 산출 ARIMA(0,1,0)"
   ]
  },
  {
   "cell_type": "code",
   "execution_count": 87,
   "metadata": {
    "scrolled": true,
    "tags": []
   },
   "outputs": [
    {
     "name": "stdout",
     "output_type": "stream",
     "text": [
      "                             ARIMA Model Results                              \n",
      "==============================================================================\n",
      "Dep. Variable:        D.CHARGE_AMOUNT   No. Observations:                   28\n",
      "Model:                 ARIMA(0, 1, 1)   Log Likelihood                -696.407\n",
      "Method:                       css-mle   S.D. of innovations    14431685372.130\n",
      "Date:                Fri, 17 Dec 2021   AIC                           1398.814\n",
      "Time:                        17:22:43   BIC                           1402.811\n",
      "Sample:                    05-01-2019   HQIC                          1400.036\n",
      "                         - 08-01-2021                                         \n",
      "=========================================================================================\n",
      "                            coef    std err          z      P>|z|      [0.025      0.975]\n",
      "-----------------------------------------------------------------------------------------\n",
      "const                  3.907e+06   3.23e+08      0.012      0.990    -6.3e+08    6.37e+08\n",
      "ma.L1.D.CHARGE_AMOUNT    -0.9998      0.141     -7.084      0.000      -1.276      -0.723\n",
      "                                    Roots                                    \n",
      "=============================================================================\n",
      "                  Real          Imaginary           Modulus         Frequency\n",
      "-----------------------------------------------------------------------------\n",
      "MA.1            1.0002           +0.0000j            1.0002            0.0000\n",
      "-----------------------------------------------------------------------------\n"
     ]
    },
    {
     "name": "stderr",
     "output_type": "stream",
     "text": [
      "C:\\Users\\user\\anaconda3\\lib\\site-packages\\statsmodels\\tsa\\arima_model.py:472: FutureWarning: \n",
      "statsmodels.tsa.arima_model.ARMA and statsmodels.tsa.arima_model.ARIMA have\n",
      "been deprecated in favor of statsmodels.tsa.arima.model.ARIMA (note the .\n",
      "between arima and model) and\n",
      "statsmodels.tsa.SARIMAX. These will be removed after the 0.12 release.\n",
      "\n",
      "statsmodels.tsa.arima.model.ARIMA makes use of the statespace framework and\n",
      "is both well tested and maintained.\n",
      "\n",
      "To silence this warning and continue using ARMA and ARIMA until they are\n",
      "removed, use:\n",
      "\n",
      "import warnings\n",
      "warnings.filterwarnings('ignore', 'statsmodels.tsa.arima_model.ARMA',\n",
      "                        FutureWarning)\n",
      "warnings.filterwarnings('ignore', 'statsmodels.tsa.arima_model.ARIMA',\n",
      "                        FutureWarning)\n",
      "\n",
      "  warnings.warn(ARIMA_DEPRECATION_WARN, FutureWarning)\n",
      "C:\\Users\\user\\anaconda3\\lib\\site-packages\\statsmodels\\tsa\\base\\tsa_model.py:524: ValueWarning: No frequency information was provided, so inferred frequency MS will be used.\n",
      "  warnings.warn('No frequency information was'\n",
      "C:\\Users\\user\\anaconda3\\lib\\site-packages\\statsmodels\\tsa\\base\\tsa_model.py:524: ValueWarning: No frequency information was provided, so inferred frequency MS will be used.\n",
      "  warnings.warn('No frequency information was'\n"
     ]
    }
   ],
   "source": [
    "from statsmodels.tsa.arima_model import ARIMA\n",
    "\n",
    "model = ARIMA(gr_charge.CHARGE_AMOUNT, order=(0,1,1))\n",
    "model_fit = model.fit(disp=0)\n",
    "print(model_fit.summary())"
   ]
  },
  {
   "cell_type": "code",
   "execution_count": 88,
   "metadata": {},
   "outputs": [
    {
     "data": {
      "image/png": "[encoded data removed]",
      "text/plain": [
       "<Figure size 1296x576 with 1 Axes>"
      ]
     },
     "metadata": {
      "needs_background": "light"
     },
     "output_type": "display_data"
    }
   ],
   "source": [
    "model_fit.plot_predict(dynamic=False)\n",
    "\n",
    "plt.show()"
   ]
  },
  {
   "cell_type": "code",
   "execution_count": 89,
   "metadata": {
    "tags": []
   },
   "outputs": [
    {
     "name": "stdout",
     "output_type": "stream",
     "text": [
      "4338197835.886008\n"
     ]
    },
    {
     "data": {
      "image/png": "[encoded data removed]",
      "text/plain": [
       "<Figure size 1296x576 with 1 Axes>"
      ]
     },
     "metadata": {
      "needs_background": "light"
     },
     "output_type": "display_data"
    }
   ],
   "source": [
    "# 2021년 4월~8월 5개월 데이터로 예측\n",
    "ARIMA_predict = model_fit.predict(start='2021-04',end='2021-09')\n",
    "ARIMA_predict.index = gr_charge_test_final.index\n",
    "\n",
    "# 결과 비교를 위해 기존에 마련해둔 test데이터에 결과를 붙임\n",
    "gr_charge_test_final['ARIMA'] = ARIMA_predict\n",
    "\n",
    "# RMSE를 살펴 봄\n",
    "RMSE_Month_ARIMA  = np.mean(np.sqrt((gr_charge_test_final['ARIMA'] - gr_charge_test_final['CHARGE_AMOUNT']) ** 2)) \n",
    "print(RMSE_Month_ARIMA)\n",
    "\n",
    "gr_charge_test_final['CHARGE_AMOUNT'].plot()\n",
    "gr_charge_test_final['ARIMA'].plot()\n",
    "plt.show()"
   ]
  },
  {
   "cell_type": "markdown",
   "metadata": {},
   "source": [
    "#### 파란선이 실제값, 노란선이 예측값"
   ]
  },
  {
   "cell_type": "code",
   "execution_count": 90,
   "metadata": {},
   "outputs": [
    {
     "data": {
      "text/plain": [
       "<AxesSubplot:>"
      ]
     },
     "execution_count": 90,
     "metadata": {},
     "output_type": "execute_result"
    },
    {
     "data": {
      "image/png": "[encoded data removed]",
      "text/plain": [
       "<Figure size 1296x576 with 1 Axes>"
      ]
     },
     "metadata": {
      "needs_background": "light"
     },
     "output_type": "display_data"
    }
   ],
   "source": [
    "#2022년 1개년 충전금액 예측\n",
    "ARIMA_predict_2022 = model_fit.predict(start='2021-07',end='2021-11')\n",
    "ARIMA_predict_2022.plot()"
   ]
  },
  {
   "cell_type": "code",
   "execution_count": 81,
   "metadata": {},
   "outputs": [
    {
     "data": {
      "text/html": [
       "<div>\n",
       "<style scoped>\n",
       "    .dataframe tbody tr th:only-of-type {\n",
       "        vertical-align: middle;\n",
       "    }\n",
       "\n",
       "    .dataframe tbody tr th {\n",
       "        vertical-align: top;\n",
       "    }\n",
       "\n",
       "    .dataframe thead th {\n",
       "        text-align: right;\n",
       "    }\n",
       "</style>\n",
       "<table border=\"1\" class=\"dataframe\">\n",
       "  <thead>\n",
       "    <tr style=\"text-align: right;\">\n",
       "      <th></th>\n",
       "      <th>0</th>\n",
       "    </tr>\n",
       "  </thead>\n",
       "  <tbody>\n",
       "    <tr>\n",
       "      <th>2021-07-01</th>\n",
       "      <td>2.246163e+09</td>\n",
       "    </tr>\n",
       "    <tr>\n",
       "      <th>2021-08-01</th>\n",
       "      <td>2.895671e+09</td>\n",
       "    </tr>\n",
       "    <tr>\n",
       "      <th>2021-09-01</th>\n",
       "      <td>4.989652e+09</td>\n",
       "    </tr>\n",
       "    <tr>\n",
       "      <th>2021-10-01</th>\n",
       "      <td>3.907471e+06</td>\n",
       "    </tr>\n",
       "    <tr>\n",
       "      <th>2021-11-01</th>\n",
       "      <td>3.907471e+06</td>\n",
       "    </tr>\n",
       "  </tbody>\n",
       "</table>\n",
       "</div>"
      ],
      "text/plain": [
       "                       0\n",
       "2021-07-01  2.246163e+09\n",
       "2021-08-01  2.895671e+09\n",
       "2021-09-01  4.989652e+09\n",
       "2021-10-01  3.907471e+06\n",
       "2021-11-01  3.907471e+06"
      ]
     },
     "execution_count": 81,
     "metadata": {},
     "output_type": "execute_result"
    }
   ],
   "source": [
    "ARIMA_predict_2022=ARIMA_predict_2022.to_frame()\n",
    "ARIMA_predict_2022"
   ]
  },
  {
   "cell_type": "code",
   "execution_count": 23,
   "metadata": {},
   "outputs": [
    {
     "data": {
      "text/plain": [
       "39494709373.503525"
      ]
     },
     "execution_count": 23,
     "metadata": {},
     "output_type": "execute_result"
    }
   ],
   "source": [
    "#2022년에는 394억 가량 재난지원금충전수요 예측\n",
    "SARIMA_predict_2022['predicted_mean'].sum()"
   ]
  },
  {
   "cell_type": "code",
   "execution_count": 24,
   "metadata": {},
   "outputs": [
    {
     "data": {
      "text/plain": [
       "99933304924.0"
      ]
     },
     "execution_count": 24,
     "metadata": {},
     "output_type": "execute_result"
    }
   ],
   "source": [
    "#포천시 코로나19위기극복으로 409억 추경예산 편성\n",
    "#2020년도 코로나 발생해에는 포천시에서 993억 가량 재난지원금 충전함\n",
    "gr_charge1.loc[gr_charge1['CHARGE_APPROVAL_month'].dt.year==2020]['CHARGE_AMOUNT'].sum()"
   ]
  },
  {
   "cell_type": "code",
   "execution_count": 25,
   "metadata": {},
   "outputs": [
    {
     "data": {
      "text/html": [
       "<div>\n",
       "<style scoped>\n",
       "    .dataframe tbody tr th:only-of-type {\n",
       "        vertical-align: middle;\n",
       "    }\n",
       "\n",
       "    .dataframe tbody tr th {\n",
       "        vertical-align: top;\n",
       "    }\n",
       "\n",
       "    .dataframe thead th {\n",
       "        text-align: right;\n",
       "    }\n",
       "</style>\n",
       "<table border=\"1\" class=\"dataframe\">\n",
       "  <thead>\n",
       "    <tr style=\"text-align: right;\">\n",
       "      <th></th>\n",
       "      <th>charge_amount</th>\n",
       "    </tr>\n",
       "  </thead>\n",
       "  <tbody>\n",
       "    <tr>\n",
       "      <th>2020</th>\n",
       "      <td>9.993330e+10</td>\n",
       "    </tr>\n",
       "    <tr>\n",
       "      <th>2022(예측)</th>\n",
       "      <td>3.949471e+10</td>\n",
       "    </tr>\n",
       "  </tbody>\n",
       "</table>\n",
       "</div>"
      ],
      "text/plain": [
       "          charge_amount\n",
       "2020       9.993330e+10\n",
       "2022(예측)   3.949471e+10"
      ]
     },
     "execution_count": 25,
     "metadata": {},
     "output_type": "execute_result"
    }
   ],
   "source": [
    "a=pd.DataFrame({'charge_amount':[gr_charge1.loc[gr_charge1['CHARGE_APPROVAL_month'].dt.year==2020]['CHARGE_AMOUNT'].sum(),SARIMA_predict_2022['predicted_mean'].sum()]},index=['2020','2022(예측)'])\n",
    "a"
   ]
  },
  {
   "cell_type": "code",
   "execution_count": 26,
   "metadata": {},
   "outputs": [
    {
     "data": {
      "text/plain": [
       "<AxesSubplot:xlabel='year', ylabel='charge_amount'>"
      ]
     },
     "execution_count": 26,
     "metadata": {},
     "output_type": "execute_result"
    },
    {
     "data": {
      "image/png": "[encoded data removed]",
      "text/plain": [
       "<Figure size 720x360 with 1 Axes>"
      ]
     },
     "metadata": {
      "needs_background": "light"
     },
     "output_type": "display_data"
    }
   ],
   "source": [
    "plt.rc('font', family=\"Malgun Gothic\") \n",
    "a.plot.bar(xlabel='year',ylabel='charge_amount',fontsize=15,rot=45,figsize=(10,5))"
   ]
  },
  {
   "cell_type": "code",
   "execution_count": null,
   "metadata": {},
   "outputs": [],
   "source": []
  }
 ],
 "metadata": {
  "kernelspec": {
   "display_name": "Python 3 (ipykernel)",
   "language": "python",
   "name": "python3"
  },
  "language_info": {
   "codemirror_mode": {
    "name": "ipython",
    "version": 3
   },
   "file_extension": ".py",
   "mimetype": "text/x-python",
   "name": "python",
   "nbconvert_exporter": "python",
   "pygments_lexer": "ipython3",
   "version": "3.8.10"
  }
 },
 "nbformat": 4,
 "nbformat_minor": 4
}
